{
 "cells": [
  {
   "cell_type": "code",
   "execution_count": 2,
   "metadata": {
    "collapsed": true
   },
   "outputs": [],
   "source": [
    "from pyspark import SparkContext\n",
    "sc =SparkContext()"
   ]
  },
  {
   "cell_type": "code",
   "execution_count": 3,
   "metadata": {
    "collapsed": false
   },
   "outputs": [
    {
     "ename": "NameError",
     "evalue": "name 'sqlC' is not defined",
     "output_type": "error",
     "traceback": [
      "\u001b[0;31m---------------------------------------------------------------------------\u001b[0m",
      "\u001b[0;31mNameError\u001b[0m                                 Traceback (most recent call last)",
      "\u001b[0;32m<ipython-input-3-e62d99612416>\u001b[0m in \u001b[0;36m<module>\u001b[0;34m()\u001b[0m\n\u001b[0;32m----> 1\u001b[0;31m \u001b[0msqlC\u001b[0m\u001b[0;34m\u001b[0m\u001b[0m\n\u001b[0m",
      "\u001b[0;31mNameError\u001b[0m: name 'sqlC' is not defined"
     ]
    }
   ],
   "source": [
    "sqlC"
   ]
  },
  {
   "cell_type": "code",
   "execution_count": 5,
   "metadata": {
    "collapsed": false
   },
   "outputs": [
    {
     "name": "stdout",
     "output_type": "stream",
     "text": [
      "+---+---------------+------------+-----+\n",
      "| id|           name|        city|state|\n",
      "+---+---------------+------------+-----+\n",
      "|100|     John Smith|      Austin|   TX|\n",
      "|200|    Joe Johnson|      Dallas|   TX|\n",
      "|300|      Bob Jones|     Houston|   TX|\n",
      "|400|     Andy Davis| San Antonio|   TX|\n",
      "|500| James Williams|      Austin|   TX|\n",
      "+---+---------------+------------+-----+\n",
      "\n"
     ]
    }
   ],
   "source": [
    "from pyspark.sql import HiveContext\n",
    "hive_context = HiveContext(sc)\n",
    "bank = hive_context.table(\"customer\")\n",
    "bank.show()"
   ]
  },
  {
   "cell_type": "code",
   "execution_count": 6,
   "metadata": {
    "collapsed": false
   },
   "outputs": [
    {
     "name": "stdout",
     "output_type": "stream",
     "text": [
      "+---+---------------+------------+-----+\n",
      "| id|           name|        city|state|\n",
      "+---+---------------+------------+-----+\n",
      "|200|    Joe Johnson|      Dallas|   TX|\n",
      "|300|      Bob Jones|     Houston|   TX|\n",
      "|400|     Andy Davis| San Antonio|   TX|\n",
      "|500| James Williams|      Austin|   TX|\n",
      "+---+---------------+------------+-----+\n",
      "\n"
     ]
    }
   ],
   "source": [
    "bank.filter(bank.id> 100).show()"
   ]
  },
  {
   "cell_type": "code",
   "execution_count": 6,
   "metadata": {
    "collapsed": false
   },
   "outputs": [
    {
     "name": "stdout",
     "output_type": "stream",
     "text": [
      "+---+------------+-----+\n",
      "| id|        city|state|\n",
      "+---+------------+-----+\n",
      "|100|      Austin|   TX|\n",
      "|200|      Dallas|   TX|\n",
      "|300|     Houston|   TX|\n",
      "|400| San Antonio|   TX|\n",
      "|500|      Austin|   TX|\n",
      "+---+------------+-----+\n",
      "\n"
     ]
    }
   ],
   "source": [
    "bank.drop(bank.name).show()"
   ]
  },
  {
   "cell_type": "code",
   "execution_count": 8,
   "metadata": {
    "collapsed": false
   },
   "outputs": [
    {
     "name": "stdout",
     "output_type": "stream",
     "text": [
      "+---+---------------+------------+-----+\n",
      "| id|           name|        city|state|\n",
      "+---+---------------+------------+-----+\n",
      "|100|     John Smith|      Austin|   TX|\n",
      "|500| James Williams|      Austin|   TX|\n",
      "|200|    Joe Johnson|      Dallas|   TX|\n",
      "|300|      Bob Jones|     Houston|   TX|\n",
      "|400|     Andy Davis| San Antonio|   TX|\n",
      "+---+---------------+------------+-----+\n",
      "\n"
     ]
    }
   ],
   "source": [
    "bank.sort(bank.city).show()"
   ]
  },
  {
   "cell_type": "code",
   "execution_count": 10,
   "metadata": {
    "collapsed": false
   },
   "outputs": [
    {
     "name": "stdout",
     "output_type": "stream",
     "text": [
      "+-------+------------------+\n",
      "|summary|                id|\n",
      "+-------+------------------+\n",
      "|  count|                 5|\n",
      "|   mean|             300.0|\n",
      "| stddev|158.11388300841898|\n",
      "|    min|               100|\n",
      "|    max|               500|\n",
      "+-------+------------------+\n",
      "\n"
     ]
    }
   ],
   "source": [
    "bank.describe().show()"
   ]
  },
  {
   "cell_type": "code",
   "execution_count": 11,
   "metadata": {
    "collapsed": false
   },
   "outputs": [
    {
     "data": {
      "text/plain": [
       "[('id', 'int'), ('name', 'string'), ('city', 'string'), ('state', 'string')]"
      ]
     },
     "execution_count": 11,
     "metadata": {},
     "output_type": "execute_result"
    }
   ],
   "source": [
    "bank.dtypes"
   ]
  },
  {
   "cell_type": "code",
   "execution_count": 12,
   "metadata": {
    "collapsed": false
   },
   "outputs": [
    {
     "data": {
      "text/plain": [
       "StructType(List(StructField(id,IntegerType,true),StructField(name,StringType,true),StructField(city,StringType,true),StructField(state,StringType,true)))"
      ]
     },
     "execution_count": 12,
     "metadata": {},
     "output_type": "execute_result"
    }
   ],
   "source": [
    "bank.schema"
   ]
  },
  {
   "cell_type": "code",
   "execution_count": 14,
   "metadata": {
    "collapsed": false
   },
   "outputs": [
    {
     "data": {
      "text/plain": [
       "['id', 'name', 'city', 'state']"
      ]
     },
     "execution_count": 14,
     "metadata": {},
     "output_type": "execute_result"
    }
   ],
   "source": [
    "bank.columns"
   ]
  },
  {
   "cell_type": "code",
   "execution_count": 28,
   "metadata": {
    "collapsed": false
   },
   "outputs": [
    {
     "name": "stdout",
     "output_type": "stream",
     "text": [
      "+---+---------------+------------+-----+\n",
      "| id|           name|        city|state|\n",
      "+---+---------------+------------+-----+\n",
      "|100|     John Smith|      Austin|   TX|\n",
      "|200|    Joe Johnson|      Dallas|   TX|\n",
      "|300|      Bob Jones|     Houston|   TX|\n",
      "|400|     Andy Davis| San Antonio|   TX|\n",
      "|500| James Williams|      Austin|   TX|\n",
      "+---+---------------+------------+-----+\n",
      "\n"
     ]
    }
   ],
   "source": [
    "bank.show()"
   ]
  },
  {
   "cell_type": "code",
   "execution_count": 41,
   "metadata": {
    "collapsed": false
   },
   "outputs": [
    {
     "data": {
      "text/plain": [
       "[Row(s=1), Row(s=1), Row(s=1), Row(s=1), Row(s=1)]"
      ]
     },
     "execution_count": 41,
     "metadata": {},
     "output_type": "execute_result"
    }
   ],
   "source": [
    "from pyspark.sql.functions import *\n",
    "bank.select(instr(bank.name, ' ').alias('s')).collect()"
   ]
  },
  {
   "cell_type": "code",
   "execution_count": 42,
   "metadata": {
    "collapsed": false
   },
   "outputs": [
    {
     "name": "stdout",
     "output_type": "stream",
     "text": [
      "+---+---------------+------------+-----+----------+\n",
      "| id|           name|        city|state|short-name|\n",
      "+---+---------------+------------+-----+----------+\n",
      "|100|     John Smith|      Austin|   TX|       Joh|\n",
      "|200|    Joe Johnson|      Dallas|   TX|       Joe|\n",
      "|300|      Bob Jones|     Houston|   TX|       Bob|\n",
      "|400|     Andy Davis| San Antonio|   TX|       And|\n",
      "|500| James Williams|      Austin|   TX|       Jam|\n",
      "+---+---------------+------------+-----+----------+\n",
      "\n"
     ]
    }
   ],
   "source": [
    "bank.withColumn(\"short-name\", bank.name.substr(0, 4)).show()"
   ]
  },
  {
   "cell_type": "code",
   "execution_count": 38,
   "metadata": {
    "collapsed": false
   },
   "outputs": [
    {
     "name": "stdout",
     "output_type": "stream",
     "text": [
      "+---------------+\n",
      "|           name|\n",
      "+---------------+\n",
      "|     Andy Davis|\n",
      "|    Joe Johnson|\n",
      "|     John Smith|\n",
      "|      Bob Jones|\n",
      "| James Williams|\n",
      "+---------------+\n",
      "\n"
     ]
    }
   ],
   "source": [
    "bank.select(bank.name).distinct().show()"
   ]
  },
  {
   "cell_type": "code",
   "execution_count": 4,
   "metadata": {
    "collapsed": false
   },
   "outputs": [
    {
     "ename": "NameError",
     "evalue": "name 'bank' is not defined",
     "output_type": "error",
     "traceback": [
      "\u001b[0;31m---------------------------------------------------------------------------\u001b[0m",
      "\u001b[0;31mNameError\u001b[0m                                 Traceback (most recent call last)",
      "\u001b[0;32m<ipython-input-4-7aa96f695f09>\u001b[0m in \u001b[0;36m<module>\u001b[0;34m()\u001b[0m\n\u001b[0;32m----> 1\u001b[0;31m \u001b[0mbank\u001b[0m\u001b[0;34m.\u001b[0m\u001b[0mwithColumn\u001b[0m\u001b[0;34m(\u001b[0m\u001b[0;34m\"short-name\"\u001b[0m\u001b[0;34m,\u001b[0m \u001b[0mbank\u001b[0m\u001b[0;34m.\u001b[0m\u001b[0mname\u001b[0m\u001b[0;34m.\u001b[0m\u001b[0msubstr\u001b[0m\u001b[0;34m(\u001b[0m\u001b[0;36m0\u001b[0m\u001b[0;34m,\u001b[0m \u001b[0;36m2\u001b[0m\u001b[0;34m)\u001b[0m\u001b[0;34m)\u001b[0m\u001b[0;34m.\u001b[0m\u001b[0mshow\u001b[0m\u001b[0;34m(\u001b[0m\u001b[0;34m)\u001b[0m\u001b[0;34m\u001b[0m\u001b[0m\n\u001b[0m",
      "\u001b[0;31mNameError\u001b[0m: name 'bank' is not defined"
     ]
    }
   ],
   "source": [
    "bank.withColumn(\"short-name\", bank.name.substr(0, 2)).show()"
   ]
  },
  {
   "cell_type": "code",
   "execution_count": null,
   "metadata": {
    "collapsed": true
   },
   "outputs": [],
   "source": []
  }
 ],
 "metadata": {
  "celltoolbar": "Raw Cell Format",
  "kernelspec": {
   "display_name": "Python 3",
   "language": "python",
   "name": "python3"
  },
  "language_info": {
   "codemirror_mode": {
    "name": "ipython",
    "version": 3
   },
   "file_extension": ".py",
   "mimetype": "text/x-python",
   "name": "python",
   "nbconvert_exporter": "python",
   "pygments_lexer": "ipython3",
   "version": "3.5.3"
  }
 },
 "nbformat": 4,
 "nbformat_minor": 0
}
